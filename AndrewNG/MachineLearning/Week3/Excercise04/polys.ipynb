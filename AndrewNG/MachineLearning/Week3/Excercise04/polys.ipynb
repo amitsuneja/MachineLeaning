{
 "cells": [
  {
   "cell_type": "code",
   "execution_count": 2,
   "metadata": {},
   "outputs": [
    {
     "name": "stdout",
     "output_type": "stream",
     "text": [
      "[[0]\n",
      " [1]\n",
      " [2]\n",
      " [3]\n",
      " [4]\n",
      " [5]]\n"
     ]
    }
   ],
   "source": [
    "import numpy as np\n",
    "from sklearn.preprocessing import PolynomialFeatures\n",
    "X = np.arange(6).reshape(6, 1)\n",
    "print(X)\n",
    "\n"
   ]
  },
  {
   "cell_type": "code",
   "execution_count": 3,
   "metadata": {},
   "outputs": [
    {
     "name": "stdout",
     "output_type": "stream",
     "text": [
      "[[  1.   0.   0.   0.]\n",
      " [  1.   1.   1.   1.]\n",
      " [  1.   2.   4.   8.]\n",
      " [  1.   3.   9.  27.]\n",
      " [  1.   4.  16.  64.]\n",
      " [  1.   5.  25. 125.]]\n",
      "(6, 4)\n"
     ]
    }
   ],
   "source": [
    "poly = PolynomialFeatures(3)\n",
    "print(poly.fit_transform(X))\n",
    "print(poly.fit_transform(X).shape)\n",
    "\n",
    "\n"
   ]
  },
  {
   "cell_type": "code",
   "execution_count": 4,
   "metadata": {},
   "outputs": [
    {
     "name": "stdout",
     "output_type": "stream",
     "text": [
      "[[0 1 2 3 4 5]]\n",
      "[[  1.   0.   1.   2.   3.   4.   5.   0.   0.   0.   0.   0.   0.   1.\n",
      "    2.   3.   4.   5.   4.   6.   8.  10.   9.  12.  15.  16.  20.  25.\n",
      "    0.   0.   0.   0.   0.   0.   0.   0.   0.   0.   0.   0.   0.   0.\n",
      "    0.   0.   0.   0.   0.   0.   0.   1.   2.   3.   4.   5.   4.   6.\n",
      "    8.  10.   9.  12.  15.  16.  20.  25.   8.  12.  16.  20.  18.  24.\n",
      "   30.  32.  40.  50.  27.  36.  45.  48.  60.  75.  64.  80. 100. 125.]]\n",
      "(1, 84)\n"
     ]
    }
   ],
   "source": [
    "X = X.reshape(1, 6)\n",
    "print(X)\n",
    "poly = PolynomialFeatures(3)\n",
    "print(poly.fit_transform(X))\n",
    "print(poly.fit_transform(X).shape)"
   ]
  }
 ],
 "metadata": {
  "kernelspec": {
   "display_name": "Python 3",
   "language": "python",
   "name": "python3"
  },
  "language_info": {
   "codemirror_mode": {
    "name": "ipython",
    "version": 3
   },
   "file_extension": ".py",
   "mimetype": "text/x-python",
   "name": "python",
   "nbconvert_exporter": "python",
   "pygments_lexer": "ipython3",
   "version": "3.6.5"
  }
 },
 "nbformat": 4,
 "nbformat_minor": 2
}
