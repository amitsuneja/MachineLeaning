{
 "cells": [
  {
   "cell_type": "code",
   "execution_count": 1,
   "metadata": {},
   "outputs": [],
   "source": [
    "\"\"\"\n",
    "https://towardsdatascience.com/andrew-ngs-machine-learning-course-in-python-regularized-logistic-regression-lasso-regression-721f311130fb\n",
    "https://www.kaggle.com/ashishrane7/logistic-regression-non-linear-decision-boundary/notebook\n",
    "https://anaconda.org/rafaelhbarros/logistic_regression/notebook\n",
    "https://medium.com/analytics-vidhya/python-implementation-of-andrew-ngs-machine-learning-course-part-2-2-dceff1a12a12\n",
    "\"\"\"\n",
    "\n",
    "\"\"\"\n",
    "You will implement regularized logistic regression to predict whether microchips from a fabrication \n",
    "plant passes quality assurance (QA). During QA, each microchip goes through various tests to ensure it is \n",
    "functioning correctly.\n",
    "Suppose you are the product manager of the factory and you have the test results for some microchips on two \n",
    "different tests. From these two tests, you would like to determine whether the microchips should be accepted \n",
    "or rejected. To help you make the decision, you have a dataset of test results on past microchips, \n",
    "from which you can build a logistic regression model.\n",
    "\"\"\""
   ]
  },
  {
   "cell_type": "code",
   "execution_count": 2,
   "metadata": {},
   "outputs": [],
   "source": [
    "import numpy as np\n",
    "import pandas as pd\n",
    "from sklearn.preprocessing import PolynomialFeatures\n",
    "import scipy.optimize as opt\n",
    "np.set_printoptions(suppress=True)\n",
    "import matplotlib.pyplot as plt"
   ]
  },
  {
   "cell_type": "code",
   "execution_count": 3,
   "metadata": {},
   "outputs": [
    {
     "data": {
      "image/png": "[encoded data removed]",
      "text/plain": [
       "<Figure size 432x288 with 1 Axes>"
      ]
     },
     "metadata": {},
     "output_type": "display_data"
    }
   ],
   "source": [
    "df = pd.read_csv('ex2data2.txt', header=None)\n",
    "df.columns = ['x1', 'x2', 'y']\n",
    "mask = df[\"y\"] == 1\n",
    "x1_pass = df[mask][\"x1\"]\n",
    "x2_pass = df[mask][\"x2\"]\n",
    "x1_fail = df[~mask][\"x1\"]\n",
    "x2_fail = df[~mask][\"x2\"]\n",
    "plt.scatter(x1_pass, x2_pass, marker=\"o\", color=\"green\", label=\"pass\")\n",
    "plt.scatter(x1_fail, x2_fail, marker=\"o\", color=\"red\", label=\"fail\")\n",
    "plt.legend()\n",
    "plt.xlabel(\"test1\")\n",
    "plt.ylabel(\"test2\")\n",
    "plt.show()\n"
   ]
  },
  {
   "cell_type": "code",
   "execution_count": 4,
   "metadata": {},
   "outputs": [],
   "source": [
    "x = df.iloc[:, :-1].values  # return dataframe , all field except last field\n",
    "y = df.iloc[:, -1].values   # return series , last field\n",
    "y = y[:, np.newaxis]  # turn shape of y from Series of shape(118,) to Numpy array (118,1)"
   ]
  },
  {
   "cell_type": "code",
   "execution_count": 5,
   "metadata": {},
   "outputs": [],
   "source": [
    "poly = PolynomialFeatures(6)\n",
    "x = poly.fit_transform(x)  # convert (118,2) into polynomial of (118,28)"
   ]
  },
  {
   "cell_type": "code",
   "execution_count": 6,
   "metadata": {},
   "outputs": [],
   "source": [
    "def sigmoid(z):\n",
    "    return 1 / (1 + np.exp(-z))  # note outer brackets in denominator are important else it bad/wrong result.\n",
    "\n",
    "\n",
    "def cost_function(theta, x,  y, Lambda):\n",
    "    m = x.shape[0]\n",
    "    h = sigmoid(x @ theta)  # h = (118, 28)@(28, 1) = (118, 1)\n",
    "    # error = (-y * np.log(h)) - ((1-y)*np.log(1-h))\n",
    "    # j = 1/m * sum(error)\n",
    "    j = (1/m) * (np.dot(np.log(h).T, -y) - np.dot(np.log(1 - h).T, (1 - y)))\n",
    "\n",
    "    # Regularization Term\n",
    "    # reg_term = (Lambda/2*m)*(np.dot(theta.T, theta))\n",
    "    reg_term = Lambda/(2*m) * sum(theta**2)\n",
    "    j = j + reg_term\n",
    "    return j\n",
    "\n",
    "\n",
    "def first_deri_j(theta, x,  y, Lambda):\n",
    "    m = x.shape[0]\n",
    "    h = sigmoid(x @ theta)  # h = (118, 28)@(28, 1) = (118, 1)\n",
    "    derivative = 1/m * np.dot(x.T, (h-y))  # (h - y)x = (118, 1)-(118, 1) = (118, 28).T @ (118, 1) = (28, 1)\n",
    "    derivative[1:] = derivative[1:] + (Lambda/m) * theta[1:]  # (28, 1)\n",
    "    # j_0 = 1/m * (x.T @ (h - y))[0]\n",
    "    # j_1 = 1/m * (x.T @ (h - y))[1:] + (Lambda/m) * theta[1:]\n",
    "    # derivative = np.vstack((j_0[:, np.newaxis], j_1))\n",
    "    return derivative    # this can be also written as j[0,0]\n",
    "\n",
    "\n",
    "def gradient_descent(theta, x,  y, Lambda, alpha, iterations):\n",
    "    m = len(y)\n",
    "    cost_list = list()\n",
    "    for i in range(iterations):\n",
    "        cost = cost_function(theta, x,  y, Lambda)\n",
    "        derivation = first_deri_j(theta, x,  y, Lambda)\n",
    "        theta = theta - (alpha*derivation)\n",
    "        cost_list.append(cost)\n",
    "    return theta, cost_list"
   ]
  },
  {
   "cell_type": "code",
   "execution_count": 7,
   "metadata": {},
   "outputs": [
    {
     "name": "stdout",
     "output_type": "stream",
     "text": [
      "initial_cost= [[0.69314718]]\n"
     ]
    }
   ],
   "source": [
    "m, n = x.shape  # m, n means row, columns of matrix , so m means rows and n means columns.\n",
    "theta_initial = np.zeros(n).reshape(n, 1)  # alternate theta_initial = np.zeros((n,1))\n",
    "Lambda = 1\n",
    "initial_cost = cost_function(theta_initial, x,  y, Lambda)\n",
    "print(\"initial_cost=\", initial_cost)"
   ]
  },
  {
   "cell_type": "code",
   "execution_count": 8,
   "metadata": {},
   "outputs": [],
   "source": [
    "final_theta, cost_list = gradient_descent(theta_initial, x,  y, 1, 0.3, 500)"
   ]
  },
  {
   "cell_type": "code",
   "execution_count": 9,
   "metadata": {},
   "outputs": [
    {
     "name": "stdout",
     "output_type": "stream",
     "text": [
      "final_cost= [0.53589598]\n"
     ]
    }
   ],
   "source": [
    "final_cost, = cost_function(final_theta, x,  y, Lambda)\n",
    "print(\"final_cost=\", final_cost)"
   ]
  },
  {
   "cell_type": "code",
   "execution_count": 10,
   "metadata": {},
   "outputs": [
    {
     "name": "stdout",
     "output_type": "stream",
     "text": [
      "accuracy = 83.05%\n"
     ]
    }
   ],
   "source": [
    "# Accuracy of model\n",
    "p = np.dot(x, final_theta) > 0\n",
    "accuracy = (np.mean(p == y)) * 100\n",
    "print(\"accuracy = {:.2f}%\".format(accuracy))"
   ]
  },
  {
   "cell_type": "code",
   "execution_count": 11,
   "metadata": {},
   "outputs": [
    {
     "data": {
      "image/png": "[encoded data removed]",
      "text/plain": [
       "<Figure size 432x288 with 1 Axes>"
      ]
     },
     "metadata": {},
     "output_type": "display_data"
    }
   ],
   "source": [
    "# Decision Boundary\n",
    "u = np.linspace(-1, 1.5, 50)\n",
    "v = np.linspace(-1, 1.5, 50)\n",
    "z = np.zeros((len(u), len(v)))\n",
    "poly = PolynomialFeatures(6)\n",
    "for i in range(len(u)):\n",
    "    for j in range(len(v)):\n",
    "        my_array = np.array([[u[i]], [v[j]]]).reshape(1, 2)\n",
    "        z[i, j] = np.dot(poly.fit_transform(my_array), final_theta)\n",
    "plt.scatter(x1_pass, x2_pass, marker=\"o\", color=\"green\", label=\"pass\")\n",
    "plt.scatter(x1_fail, x2_fail, marker=\"o\", color=\"red\", label=\"fail\")\n",
    "plt.contour(u, v, z, 0)\n",
    "plt.legend()\n",
    "plt.xlabel(\"test1\")\n",
    "plt.ylabel(\"test2\")\n",
    "plt.show()"
   ]
  },
  {
   "cell_type": "code",
   "execution_count": 13,
   "metadata": {},
   "outputs": [
    {
     "name": "stdout",
     "output_type": "stream",
     "text": [
      "final_cost= [0.53589598]\n"
     ]
    }
   ],
   "source": [
    "theta_initial = np.zeros(n).reshape(n, 1)  # alternate theta_initial = np.zeros((n,1))\n",
    "output = opt.fmin_tnc(func=cost_function, x0=theta_initial.flatten(),\n",
    "                      fprime=first_deri_j, args=(x, y.flatten(), Lambda))\n",
    "auto_theta = output[0]\n",
    "final_cost, = cost_function(final_theta, x,  y, Lambda)\n",
    "print(\"final_cost=\", final_cost)"
   ]
  },
  {
   "cell_type": "code",
   "execution_count": 21,
   "metadata": {},
   "outputs": [
    {
     "name": "stdout",
     "output_type": "stream",
     "text": [
      "p.shape= (118,)\n",
      "p.shape= (118, 1)\n",
      "accuracy = 83.05%\n"
     ]
    }
   ],
   "source": [
    "# Accuracy of model\n",
    "p = np.dot(x, auto_theta) > 0\n",
    "print(\"p.shape=\", p.shape)\n",
    "p = p.reshape(len(y), 1)\n",
    "print(\"p.shape=\", p.shape)\n",
    "accuracy = (np.mean(p == y)) * 100\n",
    "print(\"accuracy = {:.2f}%\".format(accuracy))"
   ]
  },
  {
   "cell_type": "code",
   "execution_count": null,
   "metadata": {},
   "outputs": [],
   "source": []
  }
 ],
 "metadata": {
  "kernelspec": {
   "display_name": "Python 3",
   "language": "python",
   "name": "python3"
  },
  "language_info": {
   "codemirror_mode": {
    "name": "ipython",
    "version": 3
   },
   "file_extension": ".py",
   "mimetype": "text/x-python",
   "name": "python",
   "nbconvert_exporter": "python",
   "pygments_lexer": "ipython3",
   "version": "3.6.5"
  }
 },
 "nbformat": 4,
 "nbformat_minor": 2
}
