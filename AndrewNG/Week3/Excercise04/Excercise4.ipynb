{
 "cells": [
  {
   "cell_type": "code",
   "execution_count": 1,
   "metadata": {},
   "outputs": [
    {
     "data": {
      "text/plain": [
       "'\\nYou will implement regularized logistic regression to predict whether microchips from a fabrication \\nplant passes quality assurance (QA). During QA, each microchip goes through various tests to ensure it is \\nfunctioning correctly.\\nSuppose you are the product manager of the factory and you have the test results for some microchips on two \\ndifferent tests. From these two tests, you would like to determine whether the microchips should be accepted \\nor rejected. To help you make the decision, you have a dataset of test results on past microchips, \\nfrom which you can build a logistic regression model.\\n'"
      ]
     },
     "execution_count": 1,
     "metadata": {},
     "output_type": "execute_result"
    }
   ],
   "source": [
    "\"\"\"\n",
    "https://towardsdatascience.com/andrew-ngs-machine-learning-course-in-python-regularized-logistic-regression-lasso-regression-721f311130fb\n",
    "https://www.kaggle.com/ashishrane7/logistic-regression-non-linear-decision-boundary/notebook\n",
    "https://anaconda.org/rafaelhbarros/logistic_regression/notebook\n",
    "https://medium.com/analytics-vidhya/python-implementation-of-andrew-ngs-machine-learning-course-part-2-2-dceff1a12a12\n",
    "\"\"\"\n",
    "\n",
    "\"\"\"\n",
    "You will implement regularized logistic regression to predict whether microchips from a fabrication \n",
    "plant passes quality assurance (QA). During QA, each microchip goes through various tests to ensure it is \n",
    "functioning correctly.\n",
    "Suppose you are the product manager of the factory and you have the test results for some microchips on two \n",
    "different tests. From these two tests, you would like to determine whether the microchips should be accepted \n",
    "or rejected. To help you make the decision, you have a dataset of test results on past microchips, \n",
    "from which you can build a logistic regression model.\n",
    "\"\"\""
   ]
  },
  {
   "cell_type": "code",
   "execution_count": 2,
   "metadata": {},
   "outputs": [],
   "source": [
    "import numpy as np\n",
    "import pandas as pd\n",
    "import matplotlib.pyplot as plt\n",
    "from sklearn.preprocessing import PolynomialFeatures\n",
    "import scipy.optimize as opt"
   ]
  },
  {
   "cell_type": "code",
   "execution_count": 3,
   "metadata": {},
   "outputs": [],
   "source": [
    "def z(x, theta):\n",
    "    return np.dot(x, theta)\n",
    "\n",
    "\n",
    "def sigmoid(Z):\n",
    "    return 1 / (1 + np.exp(-Z))  # note outer brackets in denominator are important else it bad/wrong result.\n",
    "\n",
    "\n",
    "def cost_function(theta, x, y, reg_factor_Lambda):\n",
    "    m = x.shape[0]\n",
    "    h = sigmoid(z(x, theta))\n",
    "    j = (1 / m) * (np.dot(np.log(h).T, -y) - np.dot(np.log(1 - h).T, (1 - y)))\n",
    "\n",
    "    # Regularization Term\n",
    "    reg_term = (reg_factor_Lambda * np.dot(theta.T, theta)) / (2 * m)\n",
    "    # reg_term = (reg_factor_Lambda * sum(theta**2))/(2 * m)\n",
    "    # Regularized cost\n",
    "    j = j + reg_term\n",
    "    return j\n",
    "\n",
    "\n",
    "def first_deri_j(theta, x, y, reg_factor_Lambda):\n",
    "    m = x.shape[0]\n",
    "    h = sigmoid(z(x, theta))\n",
    "    calculation = np.zeros([m, 1])\n",
    "    calculation = (1 / m) * np.dot(x.T, (h - y))\n",
    "    calculation[1:] = calculation[1:] + (reg_factor_Lambda / m) * theta[1:]\n",
    "    return calculation"
   ]
  },
  {
   "cell_type": "code",
   "execution_count": 4,
   "metadata": {},
   "outputs": [
    {
     "data": {
      "image/png": "[encoded data removed]",
      "text/plain": [
       "<Figure size 432x288 with 1 Axes>"
      ]
     },
     "metadata": {},
     "output_type": "display_data"
    }
   ],
   "source": [
    "df = pd.read_csv('ex2data2.txt', header=None)\n",
    "df.columns = ['x1', 'x2', 'y']\n",
    "mask = df[\"y\"] == 1\n",
    "x1_pass = df[mask][\"x1\"]\n",
    "x2_pass = df[mask][\"x2\"]\n",
    "x1_fail = df[~mask][\"x1\"]\n",
    "x2_fail = df[~mask][\"x2\"]\n",
    "plt.scatter(x1_pass, x2_pass, marker=\"o\", color=\"green\", label=\"pass\")\n",
    "plt.scatter(x1_fail, x2_fail, marker=\"o\", color=\"red\", label=\"fail\")\n",
    "plt.legend()\n",
    "plt.xlabel(\"test1\")\n",
    "plt.ylabel(\"test2\")\n",
    "plt.show()"
   ]
  },
  {
   "cell_type": "code",
   "execution_count": 5,
   "metadata": {},
   "outputs": [
    {
     "data": {
      "text/plain": [
       "array([[ 1.00000000e+00,  5.12670000e-02,  6.99560000e-01, ...,\n",
       "         6.29470940e-04,  8.58939846e-03,  1.17205992e-01],\n",
       "       [ 1.00000000e+00, -9.27420000e-02,  6.84940000e-01, ...,\n",
       "         1.89305413e-03, -1.39810280e-02,  1.03255971e-01],\n",
       "       [ 1.00000000e+00, -2.13710000e-01,  6.92250000e-01, ...,\n",
       "         1.04882142e-02, -3.39734512e-02,  1.10046893e-01],\n",
       "       ...,\n",
       "       [ 1.00000000e+00, -4.84450000e-01,  9.99270000e-01, ...,\n",
       "         2.34007252e-01, -4.82684337e-01,  9.95627986e-01],\n",
       "       [ 1.00000000e+00, -6.33640000e-03,  9.99270000e-01, ...,\n",
       "         4.00328554e-05, -6.31330588e-03,  9.95627986e-01],\n",
       "       [ 1.00000000e+00,  6.32650000e-01, -3.06120000e-02, ...,\n",
       "         3.51474517e-07, -1.70067777e-08,  8.22905998e-10]])"
      ]
     },
     "execution_count": 5,
     "metadata": {},
     "output_type": "execute_result"
    }
   ],
   "source": [
    "x = df[df.columns[:-1]].values\n",
    "poly = PolynomialFeatures(6)\n",
    "x = (poly.fit_transform(x))\n",
    "\"\"\"this has converted (118,2) into (118, 28) . inshrt from 2 dimension  to 28 dimension\"\"\"\n",
    "x"
   ]
  },
  {
   "cell_type": "code",
   "execution_count": 6,
   "metadata": {},
   "outputs": [],
   "source": [
    "y = df.iloc[:, 2]\n",
    "# Set the regularization factor to 1\n",
    "reg_factor_Lambda = 1\n",
    "(m, n) = x.shape\n",
    "y = y[:, np.newaxis]\n",
    "theta = np.zeros((n, 1))"
   ]
  },
  {
   "cell_type": "code",
   "execution_count": 7,
   "metadata": {},
   "outputs": [
    {
     "name": "stdout",
     "output_type": "stream",
     "text": [
      "Initial_Cost = [[0.69314718]]\n"
     ]
    }
   ],
   "source": [
    "Initial_Cost = cost_function(theta, x, y, reg_factor_Lambda)\n",
    "print(\"Initial_Cost =\", Initial_Cost)"
   ]
  },
  {
   "cell_type": "code",
   "execution_count": 8,
   "metadata": {},
   "outputs": [
    {
     "name": "stdout",
     "output_type": "stream",
     "text": [
      "[ 1.25441462  0.62276772  1.19242771 -2.00505494 -0.8729068  -1.3618424\n",
      "  0.12573807 -0.35536833 -0.35603636 -0.17096368 -1.45784668 -0.06683329\n",
      " -0.61498644 -0.25080273 -1.18096078 -0.22566846 -0.20562893 -0.06382345\n",
      " -0.27187031 -0.27658989 -0.46836116 -1.03247374  0.01627584 -0.29695281\n",
      "  0.00581071 -0.32631647 -0.12073372 -0.93023143]\n"
     ]
    }
   ],
   "source": [
    "output = opt.fmin_tnc(func=cost_function, x0=theta.flatten(),\n",
    "                      fprime=first_deri_j, args=(x, y.flatten(), reg_factor_Lambda))\n",
    "theta = output[0]\n",
    "print(theta)  # theta contains the optimized values"
   ]
  },
  {
   "cell_type": "code",
   "execution_count": 9,
   "metadata": {},
   "outputs": [
    {
     "name": "stdout",
     "output_type": "stream",
     "text": [
      "accuracy = 83.05%\n",
      "theta.shape=  (28,)\n"
     ]
    }
   ],
   "source": [
    "# Accuracy of model\n",
    "prediction = sigmoid(z(x, theta)) >= 0.5\n",
    "accuracy = np.mean(prediction == y.flatten()) * 100\n",
    "print(\"accuracy = {:.2f}%\".format(accuracy))\n",
    "print(\"theta.shape= \", theta.shape)"
   ]
  },
  {
   "cell_type": "code",
   "execution_count": 10,
   "metadata": {},
   "outputs": [
    {
     "data": {
      "image/png": "[encoded data removed]",
      "text/plain": [
       "<Figure size 432x288 with 1 Axes>"
      ]
     },
     "metadata": {},
     "output_type": "display_data"
    }
   ],
   "source": [
    "# Decision Boundary\n",
    "u = np.linspace(-1, 1.5, 50)\n",
    "v = np.linspace(-1, 1.5, 50)\n",
    "z = np.zeros((len(u), len(v)))\n",
    "poly = PolynomialFeatures(6)\n",
    "for i in range(len(u)):\n",
    "    for j in range(len(v)):\n",
    "        my_array = np.array([[u[i]], [v[j]]]).reshape(1, 2)\n",
    "        z[i, j] = np.dot(poly.fit_transform(my_array), theta)\n",
    "plt.scatter(x1_pass, x2_pass, marker=\"o\", color=\"green\", label=\"pass\")\n",
    "plt.scatter(x1_fail, x2_fail, marker=\"o\", color=\"red\", label=\"fail\")\n",
    "plt.contour(u, v, z, 0)\n",
    "plt.legend()\n",
    "plt.xlabel(\"test1\")\n",
    "plt.ylabel(\"test2\")\n",
    "plt.show()"
   ]
  }
 ],
 "metadata": {
  "kernelspec": {
   "display_name": "Python 3",
   "language": "python",
   "name": "python3"
  },
  "language_info": {
   "codemirror_mode": {
    "name": "ipython",
    "version": 3
   },
   "file_extension": ".py",
   "mimetype": "text/x-python",
   "name": "python",
   "nbconvert_exporter": "python",
   "pygments_lexer": "ipython3",
   "version": "3.6.5"
  }
 },
 "nbformat": 4,
 "nbformat_minor": 2
}
